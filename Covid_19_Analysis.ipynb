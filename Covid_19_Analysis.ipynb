{
  "nbformat": 4,
  "nbformat_minor": 0,
  "metadata": {
    "colab": {
      "name": "Covid-19 Analysis.ipynb",
      "provenance": [],
      "collapsed_sections": [],
      "authorship_tag": "ABX9TyPJxhFP4zMi93c85C4XXd46",
      "include_colab_link": true
    },
    "kernelspec": {
      "name": "python3",
      "display_name": "Python 3"
    }
  },
  "cells": [
    {
      "cell_type": "markdown",
      "metadata": {
        "id": "view-in-github",
        "colab_type": "text"
      },
      "source": [
        "<a href=\"https://colab.research.google.com/github/lizgarseeyah/Covid-19-Analysis/blob/master/Covid_19_Analysis.ipynb\" target=\"_parent\"><img src=\"https://colab.research.google.com/assets/colab-badge.svg\" alt=\"Open In Colab\"/></a>"
      ]
    },
    {
      "cell_type": "markdown",
      "metadata": {
        "id": "2VdWnagNyvfs",
        "colab_type": "text"
      },
      "source": [
        "Open Questions:\n",
        "1. What are we trying to solve? Make predictions in local communities.\n",
        "2. What data set are you using (preferrably raw data)? Source? Compares?\n",
        "3. What is being tracked?\n",
        "4. Data for contact testing?"
      ]
    },
    {
      "cell_type": "code",
      "metadata": {
        "id": "q9Mun4f2u9Ei",
        "colab_type": "code",
        "colab": {}
      },
      "source": [
        "# Step 1: research how the data was collected, discuss the dataset\n",
        "# Step 2: import and visualize\n",
        "# Step 3: Clean\n",
        "# Step 4: Visualize\n",
        "# Step 5: Apply Data Science methodolgies\n",
        "\n",
        "# Resources:\n",
        "# Pulling Data from the internet: https://towardsdatascience.com/how-to-pull-data-from-an-api-using-python-requests-edcc8d6441b1\n",
        "# https://docs.microsoft.com/en-us/azure/active-directory/develop/reply-url"
      ],
      "execution_count": null,
      "outputs": []
    },
    {
      "cell_type": "markdown",
      "metadata": {
        "id": "KO6M_OUXhq-w",
        "colab_type": "text"
      },
      "source": [
        "# Part 0: Getting the data from the internet using an API"
      ]
    },
    {
      "cell_type": "code",
      "metadata": {
        "id": "eElktguuh0Ig",
        "colab_type": "code",
        "colab": {}
      },
      "source": [
        "# First step is to download an API interface app (Postman: https://www.postman.com/downloads/)\n",
        "# Second Step is to review Microsoft Graph API documentation: https://docs.microsoft.com/en-us/graph/overview?view=graph-rest-1.0\n",
        "# Third Step is to register App: https://docs.microsoft.com/en-us/graph/auth-register-app-v2?source=docs\n",
        "# Add permissions: Files.ReadWrite.Selected"
      ],
      "execution_count": null,
      "outputs": []
    },
    {
      "cell_type": "code",
      "metadata": {
        "id": "ZFtBPNHMohjO",
        "colab_type": "code",
        "colab": {
          "base_uri": "https://localhost:8080/",
          "height": 71
        },
        "outputId": "74ee838c-513f-45d9-d876-d6e04f29389f"
      },
      "source": [
        "# Display Name: Postman-API\n",
        "\n",
        "# Application (client) ID: 12f17c17-2d0b-493c-92b8-f4dd81e2973c\n",
        "\n",
        "# Object ID: a7c9203a-3feb-4ca9-b938-d4f16b26f61e\n",
        "\n",
        "# Directory (tenant) ID: 7f46175d-3035-48b9-9ef0-d3d9aa729315\n",
        "\n",
        "def get_access_code():\n",
        "    client_id = '74dc4c57-e2f9-43f1-a2e9-6094e32d475c'\n",
        "    redirect_uri = 'https://api.covidtracking.com/v1/us/daily.csv'\n",
        "    scope = 'files.readwrite.all offline_access mail.readwrite'\n",
        "    url = \"\"\"https://login.microsoftonline.com/common/oauth2/v2.0/authorize?client_id={}&scope={}\n",
        "      &response_type=code&redirect_uri={}\"\"\".format(client_id, scope, redirect_uri)\n",
        "    return url\n",
        "    \n",
        "print(get_access_code())"
      ],
      "execution_count": 2,
      "outputs": [
        {
          "output_type": "stream",
          "text": [
            "https://login.microsoftonline.com/common/oauth2/v2.0/authorize?client_id=74dc4c57-e2f9-43f1-a2e9-6094e32d475c&scope=files.readwrite.all offline_access mail.readwrite\n",
            "      &response_type=code&redirect_uri=https://api.covidtracking.com/v1/us/daily.csv\n"
          ],
          "name": "stdout"
        }
      ]
    },
    {
      "cell_type": "code",
      "metadata": {
        "id": "VhLX-7yvLoYI",
        "colab_type": "code",
        "colab": {
          "base_uri": "https://localhost:8080/",
          "height": 275
        },
        "outputId": "8eaacd6b-4b8a-4bac-f431-97a5093d35da"
      },
      "source": [
        "pip install --upgrade requests"
      ],
      "execution_count": 5,
      "outputs": [
        {
          "output_type": "stream",
          "text": [
            "Collecting requests\n",
            "\u001b[?25l  Downloading https://files.pythonhosted.org/packages/45/1e/0c169c6a5381e241ba7404532c16a21d86ab872c9bed8bdcd4c423954103/requests-2.24.0-py2.py3-none-any.whl (61kB)\n",
            "\r\u001b[K     |█████▎                          | 10kB 16.8MB/s eta 0:00:01\r\u001b[K     |██████████▋                     | 20kB 1.7MB/s eta 0:00:01\r\u001b[K     |████████████████                | 30kB 2.3MB/s eta 0:00:01\r\u001b[K     |█████████████████████▏          | 40kB 2.5MB/s eta 0:00:01\r\u001b[K     |██████████████████████████▌     | 51kB 2.0MB/s eta 0:00:01\r\u001b[K     |███████████████████████████████▉| 61kB 2.3MB/s eta 0:00:01\r\u001b[K     |████████████████████████████████| 71kB 2.1MB/s \n",
            "\u001b[?25hRequirement already satisfied, skipping upgrade: idna<3,>=2.5 in /usr/local/lib/python3.6/dist-packages (from requests) (2.10)\n",
            "Requirement already satisfied, skipping upgrade: urllib3!=1.25.0,!=1.25.1,<1.26,>=1.21.1 in /usr/local/lib/python3.6/dist-packages (from requests) (1.24.3)\n",
            "Requirement already satisfied, skipping upgrade: chardet<4,>=3.0.2 in /usr/local/lib/python3.6/dist-packages (from requests) (3.0.4)\n",
            "Requirement already satisfied, skipping upgrade: certifi>=2017.4.17 in /usr/local/lib/python3.6/dist-packages (from requests) (2020.6.20)\n",
            "\u001b[31mERROR: google-colab 1.0.0 has requirement requests~=2.23.0, but you'll have requests 2.24.0 which is incompatible.\u001b[0m\n",
            "\u001b[31mERROR: datascience 0.10.6 has requirement folium==0.2.1, but you'll have folium 0.8.3 which is incompatible.\u001b[0m\n",
            "Installing collected packages: requests\n",
            "  Found existing installation: requests 2.23.0\n",
            "    Uninstalling requests-2.23.0:\n",
            "      Successfully uninstalled requests-2.23.0\n",
            "Successfully installed requests-2.24.0\n"
          ],
          "name": "stdout"
        }
      ]
    },
    {
      "cell_type": "code",
      "metadata": {
        "id": "-mTPneCmL7DR",
        "colab_type": "code",
        "colab": {
          "base_uri": "https://localhost:8080/",
          "height": 286
        },
        "outputId": "b4160c96-95b6-411c-ca9e-4760807bf108"
      },
      "source": [
        "# https://api.covidtracking.com/v1/us/daily.csv?error=invalid_request&error_description=The%20provided%20request%20must%20include%20a%20%27response_type%27%20input%20parameter.\n",
        "import requests\n",
        "url = \"https://login.microsoftonline.com/common/oauth2/v2.0/token\"\n",
        "payload = \"client_id%0A=74dc4c57-e2f9-43f1-a2e9-6094e32d475c&redirect_uri=https://api.covidtracking.com/v1/us/daily.csv?error=invalid_request&error_description=The%20provided%20request%20must%20include%20a%20%27response_type%27%20input%20parameter.%2F&client_secret=L5C.RsoxobV5O6BZ9V9lH~NC-15T4.~0Ne&code={}&grant_type=authorization_code&undefined=\".format(code)\n",
        "headers = {\n",
        "    'Content-Type': \"application/x-www-form-urlencoded\",\n",
        "    'cache-control': \"no-cache\"\n",
        "    }\n",
        "response = requests.request(\"POST\", url, data=payload, headers=headers)\n",
        "print(response.text)"
      ],
      "execution_count": 1,
      "outputs": [
        {
          "output_type": "error",
          "ename": "NameError",
          "evalue": "ignored",
          "traceback": [
            "\u001b[0;31m---------------------------------------------------------------------------\u001b[0m",
            "\u001b[0;31mNameError\u001b[0m                                 Traceback (most recent call last)",
            "\u001b[0;32m<ipython-input-1-907394e8808f>\u001b[0m in \u001b[0;36m<module>\u001b[0;34m()\u001b[0m\n\u001b[1;32m      2\u001b[0m \u001b[0;32mimport\u001b[0m \u001b[0mrequests\u001b[0m\u001b[0;34m\u001b[0m\u001b[0;34m\u001b[0m\u001b[0m\n\u001b[1;32m      3\u001b[0m \u001b[0murl\u001b[0m \u001b[0;34m=\u001b[0m \u001b[0;34m\"https://login.microsoftonline.com/common/oauth2/v2.0/token\"\u001b[0m\u001b[0;34m\u001b[0m\u001b[0;34m\u001b[0m\u001b[0m\n\u001b[0;32m----> 4\u001b[0;31m \u001b[0mpayload\u001b[0m \u001b[0;34m=\u001b[0m \u001b[0;34m\"client_id%0A=74dc4c57-e2f9-43f1-a2e9-6094e32d475c&redirect_uri=https://api.covidtracking.com/v1/us/daily.csv?error=invalid_request&error_description=The%20provided%20request%20must%20include%20a%20%27response_type%27%20input%20parameter.%2F&client_secret=L5C.RsoxobV5O6BZ9V9lH~NC-15T4.~0Ne&code={}&grant_type=authorization_code&undefined=\"\u001b[0m\u001b[0;34m.\u001b[0m\u001b[0mformat\u001b[0m\u001b[0;34m(\u001b[0m\u001b[0mcode\u001b[0m\u001b[0;34m)\u001b[0m\u001b[0;34m\u001b[0m\u001b[0;34m\u001b[0m\u001b[0m\n\u001b[0m\u001b[1;32m      5\u001b[0m headers = {\n\u001b[1;32m      6\u001b[0m     \u001b[0;34m'Content-Type'\u001b[0m\u001b[0;34m:\u001b[0m \u001b[0;34m\"application/x-www-form-urlencoded\"\u001b[0m\u001b[0;34m,\u001b[0m\u001b[0;34m\u001b[0m\u001b[0;34m\u001b[0m\u001b[0m\n",
            "\u001b[0;31mNameError\u001b[0m: name 'code' is not defined"
          ]
        }
      ]
    },
    {
      "cell_type": "code",
      "metadata": {
        "id": "ECVBUpTURVIG",
        "colab_type": "code",
        "colab": {}
      },
      "source": [
        "import json\n",
        "import requests\n",
        "\n",
        "url ="
      ],
      "execution_count": null,
      "outputs": []
    },
    {
      "cell_type": "code",
      "metadata": {
        "id": "ej-qLXheRu1b",
        "colab_type": "code",
        "colab": {}
      },
      "source": [
        "import csv\n",
        "\n",
        "write_file = '/Users/lizgarcia/Desktop/ROADMAP/PYTHON/Covid-19-Anaylsis/Data'\n",
        "with open(write_file,'w', newline = '') as f:\n",
        "  write = csv.writer(f, lineterminator = '\\n')\n",
        "  writer.writerows(emails)"
      ],
      "execution_count": null,
      "outputs": []
    },
    {
      "cell_type": "markdown",
      "metadata": {
        "id": "GWZYGQdGZomZ",
        "colab_type": "text"
      },
      "source": [
        "# Part I: Data Visualization"
      ]
    },
    {
      "cell_type": "code",
      "metadata": {
        "id": "pTClQ0Ieyu9l",
        "colab_type": "code",
        "colab": {}
      },
      "source": [
        "# import data from local source. Data downloaded from: https://covidtracking.com/data/download\n",
        "#\n"
      ],
      "execution_count": null,
      "outputs": []
    },
    {
      "cell_type": "code",
      "metadata": {
        "id": "9KZPAMgsyvUL",
        "colab_type": "code",
        "colab": {}
      },
      "source": [
        ""
      ],
      "execution_count": null,
      "outputs": []
    },
    {
      "cell_type": "code",
      "metadata": {
        "id": "AcOnJailviIa",
        "colab_type": "code",
        "colab": {}
      },
      "source": [
        ""
      ],
      "execution_count": null,
      "outputs": []
    }
  ]
}