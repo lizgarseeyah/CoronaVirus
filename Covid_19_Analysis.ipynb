{
  "nbformat": 4,
  "nbformat_minor": 0,
  "metadata": {
    "colab": {
      "name": "Covid-19 Analysis.ipynb",
      "provenance": [],
      "authorship_tag": "ABX9TyMgVHyl66KN6fena/948M7Z",
      "include_colab_link": true
    },
    "kernelspec": {
      "name": "python3",
      "display_name": "Python 3"
    }
  },
  "cells": [
    {
      "cell_type": "markdown",
      "metadata": {
        "id": "view-in-github",
        "colab_type": "text"
      },
      "source": [
        "<a href=\"https://colab.research.google.com/github/lizgarseeyah/CoronaVirus/blob/master/Covid_19_Analysis.ipynb\" target=\"_parent\"><img src=\"https://colab.research.google.com/assets/colab-badge.svg\" alt=\"Open In Colab\"/></a>"
      ]
    },
    {
      "cell_type": "code",
      "metadata": {
        "id": "q9Mun4f2u9Ei",
        "colab_type": "code",
        "colab": {}
      },
      "source": [
        "# Step 1: research how the data was collected, discuss the dataset\n",
        "# Step 2: import and visualize\n",
        "# Step 3: Clean\n",
        "# Step 4: Visualize\n",
        "# Step 5: Apply Data Science methodolgies"
      ],
      "execution_count": 1,
      "outputs": []
    },
    {
      "cell_type": "code",
      "metadata": {
        "id": "AcOnJailviIa",
        "colab_type": "code",
        "colab": {}
      },
      "source": [
        ""
      ],
      "execution_count": null,
      "outputs": []
    }
  ]
}