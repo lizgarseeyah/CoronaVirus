{
 "cells": [
  {
   "cell_type": "markdown",
   "metadata": {},
   "source": [
    "### Open Questions:\n",
    "1. What are we trying to solve? Make predictions in local communities.\n",
    "2. What data set are you using (preferrably raw data)? Source? Compares?\n",
    "3. What is being tracked?\n",
    "4. Data for contact testing?"
   ]
  },
  {
   "cell_type": "code",
   "execution_count": 1,
   "metadata": {},
   "outputs": [],
   "source": [
    "# Step 1: research how the data was collected, discuss the dataset\n",
    "# Step 2: import and visualize\n",
    "# Step 3: Clean\n",
    "# Step 4: Visualize\n",
    "# Step 5: Apply Data Science methodolgies\n",
    "\n",
    "# Resources:\n",
    "# Pulling Data from the internet: https://towardsdatascience.com/how-to-pull-data-from-an-api-using-python-requests-edcc8d6441b1\n",
    "# https://docs.microsoft.com/en-us/azure/active-directory/develop/reply-url"
   ]
  },
  {
   "cell_type": "markdown",
   "metadata": {},
   "source": [
    "# Step 0 - Method 1: Getting the data from source (web) to local drive via Azure API"
   ]
  },
  {
   "cell_type": "code",
   "execution_count": 69,
   "metadata": {},
   "outputs": [],
   "source": [
    "# First step is to download an API interface app (Postman: https://www.postman.com/downloads/)\n",
    "# Second Step is to review Microsoft Graph API documentation: https://docs.microsoft.com/en-us/graph/overview?view=graph-rest-1.0\n",
    "# Third Step is to register App: https://docs.microsoft.com/en-us/graph/auth-register-app-v2?source=docs\n",
    "# Add permissions: Files.ReadWrite.Selected"
   ]
  },
  {
   "cell_type": "code",
   "execution_count": 70,
   "metadata": {},
   "outputs": [],
   "source": [
    "# def get_access_code():\n",
    "#     client_id = '2f2ed715-e971-4a01-9f44-2b074d260b4e'\n",
    "#     redirect_uri = 'https://api.covidtracking.com/v1/us/daily.csv'\n",
    "#     scope = 'files.readwrite.all offline_access mail.readwrite'\n",
    "#     url = \"\"\"https://login.microsoftonline.com/common/oauth2/v2.0/authorize?client_id={}&scope={}\n",
    "#       &response_type=code&redirect_uri={}\"\"\".format(client_id, scope, redirect_uri)\n",
    "#     return url\n",
    "    \n",
    "# print(get_access_code())"
   ]
  },
  {
   "cell_type": "code",
   "execution_count": 4,
   "metadata": {},
   "outputs": [],
   "source": [
    "# pip install --upgrade requests"
   ]
  },
  {
   "cell_type": "code",
   "execution_count": 5,
   "metadata": {},
   "outputs": [],
   "source": [
    "# # https://api.covidtracking.com/v1/us/daily.csv?error=invalid_request&error_description=The%20provided%20request%20must%20include%20a%20%27response_type%27%20input%20parameter.\n",
    "# import requests\n",
    "# url = \"https://login.microsoftonline.com/common/oauth2/v2.0/token\"\n",
    "# payload = \"client_id%0A=74dc4c57-e2f9-43f1-a2e9-6094e32d475c&redirect_uri=https://api.covidtracking.com/v1/us/daily.csv?error=invalid_request&error_description=The%20provided%20request%20must%20include%20a%20%27response_type%27%20input%20parameter.%2F&client_secret=L5C.RsoxobV5O6BZ9V9lH~NC-15T4.~0Ne&code={}&grant_type=authorization_code&undefined=\".format(code)\n",
    "# headers = {\n",
    "#     'Content-Type': \"application/x-www-form-urlencoded\",\n",
    "#     'cache-control': \"no-cache\"\n",
    "#     }\n",
    "# response = requests.request(\"POST\", url, data=payload, headers=headers)\n",
    "# print(response.text)"
   ]
  },
  {
   "cell_type": "markdown",
   "metadata": {},
   "source": [
    "# Step 0 - Method 2: Getting the data from source (web) to local drive via Python HTTP Library"
   ]
  },
  {
   "cell_type": "code",
   "execution_count": 7,
   "metadata": {},
   "outputs": [
    {
     "name": "stdout",
     "output_type": "stream",
     "text": [
      "Collecting pandas\n",
      "  Downloading pandas-1.1.1-cp38-cp38-macosx_10_9_x86_64.whl (10.6 MB)\n",
      "\u001b[K     |████████████████████████████████| 10.6 MB 7.3 MB/s eta 0:00:01\n",
      "\u001b[?25hRequirement already satisfied: python-dateutil>=2.7.3 in /usr/local/Cellar/jupyterlab/2.2.5/libexec/lib/python3.8/site-packages (from pandas) (2.8.1)\n",
      "Collecting pytz>=2017.2\n",
      "  Downloading pytz-2020.1-py2.py3-none-any.whl (510 kB)\n",
      "\u001b[K     |████████████████████████████████| 510 kB 18.4 MB/s eta 0:00:01\n",
      "\u001b[?25hCollecting numpy>=1.15.4\n",
      "  Downloading numpy-1.19.1-cp38-cp38-macosx_10_9_x86_64.whl (15.3 MB)\n",
      "\u001b[K     |████████████████████████████████| 15.3 MB 2.0 MB/s eta 0:00:01\n",
      "\u001b[?25hRequirement already satisfied: six>=1.5 in /usr/local/Cellar/jupyterlab/2.2.5/libexec/lib/python3.8/site-packages (from python-dateutil>=2.7.3->pandas) (1.15.0)\n",
      "Installing collected packages: pytz, numpy, pandas\n",
      "Successfully installed numpy-1.19.1 pandas-1.1.1 pytz-2020.1\n",
      "Note: you may need to restart the kernel to use updated packages.\n"
     ]
    }
   ],
   "source": [
    "# pip install pandas"
   ]
  },
  {
   "cell_type": "code",
   "execution_count": 38,
   "metadata": {},
   "outputs": [
    {
     "name": "stdout",
     "output_type": "stream",
     "text": [
      "Collecting matplotlib\n",
      "  Downloading matplotlib-3.3.1-cp38-cp38-macosx_10_9_x86_64.whl (8.5 MB)\n",
      "\u001b[K     |████████████████████████████████| 8.5 MB 1.5 MB/s eta 0:00:01     |█████████████▉                  | 3.7 MB 968 kB/s eta 0:00:05\n",
      "\u001b[?25hRequirement already satisfied: certifi>=2020.06.20 in /usr/local/Cellar/jupyterlab/2.2.5/libexec/lib/python3.8/site-packages (from matplotlib) (2020.6.20)\n",
      "Collecting cycler>=0.10\n",
      "  Downloading cycler-0.10.0-py2.py3-none-any.whl (6.5 kB)\n",
      "Collecting pillow>=6.2.0\n",
      "  Downloading Pillow-7.2.0-cp38-cp38-macosx_10_10_x86_64.whl (2.2 MB)\n",
      "\u001b[K     |████████████████████████████████| 2.2 MB 2.0 MB/s eta 0:00:01\n",
      "\u001b[?25hRequirement already satisfied: numpy>=1.15 in /usr/local/Cellar/jupyterlab/2.2.5/libexec/lib/python3.8/site-packages (from matplotlib) (1.19.1)\n",
      "Requirement already satisfied: pyparsing!=2.0.4,!=2.1.2,!=2.1.6,>=2.0.3 in /usr/local/Cellar/jupyterlab/2.2.5/libexec/lib/python3.8/site-packages (from matplotlib) (2.4.7)\n",
      "Requirement already satisfied: python-dateutil>=2.1 in /usr/local/Cellar/jupyterlab/2.2.5/libexec/lib/python3.8/site-packages (from matplotlib) (2.8.1)\n",
      "Collecting kiwisolver>=1.0.1\n",
      "  Downloading kiwisolver-1.2.0-cp38-cp38-macosx_10_9_x86_64.whl (60 kB)\n",
      "\u001b[K     |████████████████████████████████| 60 kB 6.3 MB/s eta 0:00:011\n",
      "\u001b[?25hRequirement already satisfied: six in /usr/local/Cellar/jupyterlab/2.2.5/libexec/lib/python3.8/site-packages (from cycler>=0.10->matplotlib) (1.15.0)\n",
      "Installing collected packages: cycler, pillow, kiwisolver, matplotlib\n",
      "Successfully installed cycler-0.10.0 kiwisolver-1.2.0 matplotlib-3.3.1 pillow-7.2.0\n",
      "Note: you may need to restart the kernel to use updated packages.\n"
     ]
    }
   ],
   "source": [
    "pip install matplotlib"
   ]
  },
  {
   "cell_type": "code",
   "execution_count": 111,
   "metadata": {},
   "outputs": [
    {
     "ename": "ModuleNotFoundError",
     "evalue": "No module named 'missingno'",
     "output_type": "error",
     "traceback": [
      "\u001b[0;31m---------------------------------------------------------------------------\u001b[0m",
      "\u001b[0;31mModuleNotFoundError\u001b[0m                       Traceback (most recent call last)",
      "\u001b[0;32m<ipython-input-111-840ee2a5aeef>\u001b[0m in \u001b[0;36m<module>\u001b[0;34m\u001b[0m\n\u001b[1;32m      6\u001b[0m \u001b[0;32mfrom\u001b[0m \u001b[0mtime\u001b[0m \u001b[0;32mimport\u001b[0m \u001b[0mtime\u001b[0m\u001b[0;34m\u001b[0m\u001b[0;34m\u001b[0m\u001b[0m\n\u001b[1;32m      7\u001b[0m \u001b[0;32mimport\u001b[0m \u001b[0mmatplotlib\u001b[0m\u001b[0;34m.\u001b[0m\u001b[0mpyplot\u001b[0m \u001b[0;32mas\u001b[0m \u001b[0mplt\u001b[0m\u001b[0;34m\u001b[0m\u001b[0;34m\u001b[0m\u001b[0m\n\u001b[0;32m----> 8\u001b[0;31m \u001b[0;32mimport\u001b[0m \u001b[0mmissingno\u001b[0m \u001b[0;32mas\u001b[0m \u001b[0mmsno\u001b[0m\u001b[0;34m\u001b[0m\u001b[0;34m\u001b[0m\u001b[0m\n\u001b[0m\u001b[1;32m      9\u001b[0m \u001b[0;34m\u001b[0m\u001b[0m\n\u001b[1;32m     10\u001b[0m \u001b[0mget_ipython\u001b[0m\u001b[0;34m(\u001b[0m\u001b[0;34m)\u001b[0m\u001b[0;34m.\u001b[0m\u001b[0mrun_line_magic\u001b[0m\u001b[0;34m(\u001b[0m\u001b[0;34m'matplotlib'\u001b[0m\u001b[0;34m,\u001b[0m \u001b[0;34m'inline'\u001b[0m\u001b[0;34m)\u001b[0m\u001b[0;34m\u001b[0m\u001b[0;34m\u001b[0m\u001b[0m\n",
      "\u001b[0;31mModuleNotFoundError\u001b[0m: No module named 'missingno'"
     ]
    }
   ],
   "source": [
    "import csv\n",
    "import requests\n",
    "import pandas as pd\n",
    "import numpy as np\n",
    "from IPython.display import display # Allows the use of display() for DataFrames\n",
    "from time import time\n",
    "import matplotlib.pyplot as plt\n",
    "import missingno as msno \n",
    "\n",
    "%matplotlib inline"
   ]
  },
  {
   "cell_type": "code",
   "execution_count": 60,
   "metadata": {},
   "outputs": [],
   "source": [
    "# import data from local source. Data downloaded from: https://covidtracking.com/data/download\n",
    "# saves data from source to local drive (or overwrite existing data)\n",
    "url_USA = 'https://api.covidtracking.com/v1/us/daily.csv'\n",
    "url_CA = 'https://api.covidtracking.com/v1/states/ca/daily.csv'\n",
    "response_USA = requests.get(url_USA)\n",
    "response_CA = requests.get(url_CA)\n",
    "with open(os.path.join(\"/Users/lizgarcia/Desktop/ROADMAP/PYTHON/Covid-19-Anaylsis/Data\", \"covid-19-data-USA.csv\"), 'wb') as f:\n",
    "    f.write(response_USA.content)\n",
    "    \n",
    "with open(os.path.join(\"/Users/lizgarcia/Desktop/ROADMAP/PYTHON/Covid-19-Anaylsis/Data\", \"covid-19-data-CA.csv\"), 'wb') as f:\n",
    "    f.write(response_CA.content)"
   ]
  },
  {
   "cell_type": "markdown",
   "metadata": {},
   "source": [
    "# Step 1: Importing the Data"
   ]
  },
  {
   "cell_type": "code",
   "execution_count": 81,
   "metadata": {},
   "outputs": [
    {
     "data": {
      "text/html": [
       "<div>\n",
       "<style scoped>\n",
       "    .dataframe tbody tr th:only-of-type {\n",
       "        vertical-align: middle;\n",
       "    }\n",
       "\n",
       "    .dataframe tbody tr th {\n",
       "        vertical-align: top;\n",
       "    }\n",
       "\n",
       "    .dataframe thead th {\n",
       "        text-align: right;\n",
       "    }\n",
       "</style>\n",
       "<table border=\"1\" class=\"dataframe\">\n",
       "  <thead>\n",
       "    <tr style=\"text-align: right;\">\n",
       "      <th></th>\n",
       "      <th>date</th>\n",
       "      <th>states</th>\n",
       "      <th>positive</th>\n",
       "      <th>negative</th>\n",
       "      <th>pending</th>\n",
       "      <th>hospitalizedCurrently</th>\n",
       "      <th>hospitalizedCumulative</th>\n",
       "      <th>inIcuCurrently</th>\n",
       "      <th>inIcuCumulative</th>\n",
       "      <th>onVentilatorCurrently</th>\n",
       "      <th>...</th>\n",
       "      <th>lastModified</th>\n",
       "      <th>total</th>\n",
       "      <th>totalTestResults</th>\n",
       "      <th>posNeg</th>\n",
       "      <th>deathIncrease</th>\n",
       "      <th>hospitalizedIncrease</th>\n",
       "      <th>negativeIncrease</th>\n",
       "      <th>positiveIncrease</th>\n",
       "      <th>totalTestResultsIncrease</th>\n",
       "      <th>hash</th>\n",
       "    </tr>\n",
       "  </thead>\n",
       "  <tbody>\n",
       "    <tr>\n",
       "      <th>0</th>\n",
       "      <td>20200821</td>\n",
       "      <td>56</td>\n",
       "      <td>5593318</td>\n",
       "      <td>64743463</td>\n",
       "      <td>4199.0</td>\n",
       "      <td>40951.0</td>\n",
       "      <td>357093.0</td>\n",
       "      <td>8349.0</td>\n",
       "      <td>16563.0</td>\n",
       "      <td>2286.0</td>\n",
       "      <td>...</td>\n",
       "      <td>2020-08-21T00:00:00Z</td>\n",
       "      <td>70340980</td>\n",
       "      <td>70336781</td>\n",
       "      <td>70336781</td>\n",
       "      <td>1123</td>\n",
       "      <td>1817</td>\n",
       "      <td>685099</td>\n",
       "      <td>46821</td>\n",
       "      <td>731920</td>\n",
       "      <td>cd07637ded4b265fc45cb2c204784d5cb8c70085</td>\n",
       "    </tr>\n",
       "    <tr>\n",
       "      <th>1</th>\n",
       "      <td>20200820</td>\n",
       "      <td>56</td>\n",
       "      <td>5546497</td>\n",
       "      <td>64058364</td>\n",
       "      <td>4170.0</td>\n",
       "      <td>41988.0</td>\n",
       "      <td>355276.0</td>\n",
       "      <td>8483.0</td>\n",
       "      <td>16487.0</td>\n",
       "      <td>2335.0</td>\n",
       "      <td>...</td>\n",
       "      <td>2020-08-20T00:00:00Z</td>\n",
       "      <td>69609031</td>\n",
       "      <td>69604861</td>\n",
       "      <td>69604861</td>\n",
       "      <td>1134</td>\n",
       "      <td>2010</td>\n",
       "      <td>621696</td>\n",
       "      <td>43740</td>\n",
       "      <td>665436</td>\n",
       "      <td>5e7ec5926f868e83e4fd901d5b6b7e3c0c9f161b</td>\n",
       "    </tr>\n",
       "    <tr>\n",
       "      <th>2</th>\n",
       "      <td>20200819</td>\n",
       "      <td>56</td>\n",
       "      <td>5502757</td>\n",
       "      <td>63436668</td>\n",
       "      <td>4374.0</td>\n",
       "      <td>43330.0</td>\n",
       "      <td>353266.0</td>\n",
       "      <td>8744.0</td>\n",
       "      <td>16377.0</td>\n",
       "      <td>2371.0</td>\n",
       "      <td>...</td>\n",
       "      <td>2020-08-19T00:00:00Z</td>\n",
       "      <td>68943799</td>\n",
       "      <td>68939425</td>\n",
       "      <td>68939425</td>\n",
       "      <td>1420</td>\n",
       "      <td>2032</td>\n",
       "      <td>630559</td>\n",
       "      <td>44933</td>\n",
       "      <td>675492</td>\n",
       "      <td>64c8b61e3c52baa7b1bcb0a6bbaa8dee87f3e71c</td>\n",
       "    </tr>\n",
       "  </tbody>\n",
       "</table>\n",
       "<p>3 rows × 25 columns</p>\n",
       "</div>"
      ],
      "text/plain": [
       "       date  states  positive  negative  pending  hospitalizedCurrently  \\\n",
       "0  20200821      56   5593318  64743463   4199.0                40951.0   \n",
       "1  20200820      56   5546497  64058364   4170.0                41988.0   \n",
       "2  20200819      56   5502757  63436668   4374.0                43330.0   \n",
       "\n",
       "   hospitalizedCumulative  inIcuCurrently  inIcuCumulative  \\\n",
       "0                357093.0          8349.0          16563.0   \n",
       "1                355276.0          8483.0          16487.0   \n",
       "2                353266.0          8744.0          16377.0   \n",
       "\n",
       "   onVentilatorCurrently  ...          lastModified     total  \\\n",
       "0                 2286.0  ...  2020-08-21T00:00:00Z  70340980   \n",
       "1                 2335.0  ...  2020-08-20T00:00:00Z  69609031   \n",
       "2                 2371.0  ...  2020-08-19T00:00:00Z  68943799   \n",
       "\n",
       "  totalTestResults    posNeg  deathIncrease hospitalizedIncrease  \\\n",
       "0         70336781  70336781           1123                 1817   \n",
       "1         69604861  69604861           1134                 2010   \n",
       "2         68939425  68939425           1420                 2032   \n",
       "\n",
       "   negativeIncrease  positiveIncrease  totalTestResultsIncrease  \\\n",
       "0            685099             46821                    731920   \n",
       "1            621696             43740                    665436   \n",
       "2            630559             44933                    675492   \n",
       "\n",
       "                                       hash  \n",
       "0  cd07637ded4b265fc45cb2c204784d5cb8c70085  \n",
       "1  5e7ec5926f868e83e4fd901d5b6b7e3c0c9f161b  \n",
       "2  64c8b61e3c52baa7b1bcb0a6bbaa8dee87f3e71c  \n",
       "\n",
       "[3 rows x 25 columns]"
      ]
     },
     "metadata": {},
     "output_type": "display_data"
    },
    {
     "name": "stdout",
     "output_type": "stream",
     "text": [
      "Total rows x col.:  (213, 25)\n"
     ]
    },
    {
     "data": {
      "text/html": [
       "<div>\n",
       "<style scoped>\n",
       "    .dataframe tbody tr th:only-of-type {\n",
       "        vertical-align: middle;\n",
       "    }\n",
       "\n",
       "    .dataframe tbody tr th {\n",
       "        vertical-align: top;\n",
       "    }\n",
       "\n",
       "    .dataframe thead th {\n",
       "        text-align: right;\n",
       "    }\n",
       "</style>\n",
       "<table border=\"1\" class=\"dataframe\">\n",
       "  <thead>\n",
       "    <tr style=\"text-align: right;\">\n",
       "      <th></th>\n",
       "      <th>date</th>\n",
       "      <th>state</th>\n",
       "      <th>positive</th>\n",
       "      <th>negative</th>\n",
       "      <th>pending</th>\n",
       "      <th>hospitalizedCurrently</th>\n",
       "      <th>hospitalizedCumulative</th>\n",
       "      <th>inIcuCurrently</th>\n",
       "      <th>inIcuCumulative</th>\n",
       "      <th>onVentilatorCurrently</th>\n",
       "      <th>...</th>\n",
       "      <th>posNeg</th>\n",
       "      <th>deathIncrease</th>\n",
       "      <th>hospitalizedIncrease</th>\n",
       "      <th>hash</th>\n",
       "      <th>commercialScore</th>\n",
       "      <th>negativeRegularScore</th>\n",
       "      <th>negativeScore</th>\n",
       "      <th>positiveScore</th>\n",
       "      <th>score</th>\n",
       "      <th>grade</th>\n",
       "    </tr>\n",
       "  </thead>\n",
       "  <tbody>\n",
       "    <tr>\n",
       "      <th>0</th>\n",
       "      <td>20200821</td>\n",
       "      <td>CA</td>\n",
       "      <td>650336</td>\n",
       "      <td>9679036</td>\n",
       "      <td>NaN</td>\n",
       "      <td>6039.0</td>\n",
       "      <td>NaN</td>\n",
       "      <td>1706.0</td>\n",
       "      <td>NaN</td>\n",
       "      <td>NaN</td>\n",
       "      <td>...</td>\n",
       "      <td>10329372</td>\n",
       "      <td>135</td>\n",
       "      <td>0</td>\n",
       "      <td>2cfb2a2be93fafb01559d32f3f621a0403db841e</td>\n",
       "      <td>0</td>\n",
       "      <td>0</td>\n",
       "      <td>0</td>\n",
       "      <td>0</td>\n",
       "      <td>0</td>\n",
       "      <td>NaN</td>\n",
       "    </tr>\n",
       "    <tr>\n",
       "      <th>1</th>\n",
       "      <td>20200820</td>\n",
       "      <td>CA</td>\n",
       "      <td>644751</td>\n",
       "      <td>9583215</td>\n",
       "      <td>NaN</td>\n",
       "      <td>6212.0</td>\n",
       "      <td>NaN</td>\n",
       "      <td>1707.0</td>\n",
       "      <td>NaN</td>\n",
       "      <td>NaN</td>\n",
       "      <td>...</td>\n",
       "      <td>10227966</td>\n",
       "      <td>163</td>\n",
       "      <td>0</td>\n",
       "      <td>6d74d9cdc8ce1265c3772543ff51d104c4da333c</td>\n",
       "      <td>0</td>\n",
       "      <td>0</td>\n",
       "      <td>0</td>\n",
       "      <td>0</td>\n",
       "      <td>0</td>\n",
       "      <td>NaN</td>\n",
       "    </tr>\n",
       "    <tr>\n",
       "      <th>2</th>\n",
       "      <td>20200819</td>\n",
       "      <td>CA</td>\n",
       "      <td>638831</td>\n",
       "      <td>9501852</td>\n",
       "      <td>NaN</td>\n",
       "      <td>6479.0</td>\n",
       "      <td>NaN</td>\n",
       "      <td>1761.0</td>\n",
       "      <td>NaN</td>\n",
       "      <td>NaN</td>\n",
       "      <td>...</td>\n",
       "      <td>10140683</td>\n",
       "      <td>181</td>\n",
       "      <td>0</td>\n",
       "      <td>cbc3e20131349d23d0fffe1218beee47064d0ef7</td>\n",
       "      <td>0</td>\n",
       "      <td>0</td>\n",
       "      <td>0</td>\n",
       "      <td>0</td>\n",
       "      <td>0</td>\n",
       "      <td>NaN</td>\n",
       "    </tr>\n",
       "  </tbody>\n",
       "</table>\n",
       "<p>3 rows × 53 columns</p>\n",
       "</div>"
      ],
      "text/plain": [
       "       date state  positive  negative  pending  hospitalizedCurrently  \\\n",
       "0  20200821    CA    650336   9679036      NaN                 6039.0   \n",
       "1  20200820    CA    644751   9583215      NaN                 6212.0   \n",
       "2  20200819    CA    638831   9501852      NaN                 6479.0   \n",
       "\n",
       "   hospitalizedCumulative  inIcuCurrently  inIcuCumulative  \\\n",
       "0                     NaN          1706.0              NaN   \n",
       "1                     NaN          1707.0              NaN   \n",
       "2                     NaN          1761.0              NaN   \n",
       "\n",
       "   onVentilatorCurrently  ...    posNeg  deathIncrease hospitalizedIncrease  \\\n",
       "0                    NaN  ...  10329372            135                    0   \n",
       "1                    NaN  ...  10227966            163                    0   \n",
       "2                    NaN  ...  10140683            181                    0   \n",
       "\n",
       "                                       hash commercialScore  \\\n",
       "0  2cfb2a2be93fafb01559d32f3f621a0403db841e               0   \n",
       "1  6d74d9cdc8ce1265c3772543ff51d104c4da333c               0   \n",
       "2  cbc3e20131349d23d0fffe1218beee47064d0ef7               0   \n",
       "\n",
       "  negativeRegularScore  negativeScore  positiveScore score  grade  \n",
       "0                    0              0              0     0    NaN  \n",
       "1                    0              0              0     0    NaN  \n",
       "2                    0              0              0     0    NaN  \n",
       "\n",
       "[3 rows x 53 columns]"
      ]
     },
     "metadata": {},
     "output_type": "display_data"
    },
    {
     "name": "stdout",
     "output_type": "stream",
     "text": [
      "Total rows x col.:  (171, 53)\n"
     ]
    }
   ],
   "source": [
    "# load the dataset\n",
    "df_US = pd.read_csv(r'/Users/lizgarcia/Desktop/ROADMAP/PYTHON/Covid-19-Anaylsis/Data/covid-19-data-USA.csv')\n",
    "df_CA = pd.read_csv(r'/Users/lizgarcia/Desktop/ROADMAP/PYTHON/Covid-19-Anaylsis/Data/covid-19-data-CA.csv')\n",
    "\n",
    "# display the first 3 rows \n",
    "display(df_US.head(n=3))\n",
    "print('Total rows x col.: ', df_US.shape)\n",
    "display(df_CA.head(n=3))\n",
    "print('Total rows x col.: ', df_CA.shape)"
   ]
  },
  {
   "cell_type": "code",
   "execution_count": 72,
   "metadata": {},
   "outputs": [
    {
     "data": {
      "text/plain": [
       "date                          int64\n",
       "states                        int64\n",
       "positive                      int64\n",
       "negative                      int64\n",
       "pending                     float64\n",
       "hospitalizedCurrently       float64\n",
       "hospitalizedCumulative      float64\n",
       "inIcuCurrently              float64\n",
       "inIcuCumulative             float64\n",
       "onVentilatorCurrently       float64\n",
       "onVentilatorCumulative      float64\n",
       "recovered                   float64\n",
       "dateChecked                  object\n",
       "death                       float64\n",
       "hospitalized                float64\n",
       "lastModified                 object\n",
       "total                         int64\n",
       "totalTestResults              int64\n",
       "posNeg                        int64\n",
       "deathIncrease                 int64\n",
       "hospitalizedIncrease          int64\n",
       "negativeIncrease              int64\n",
       "positiveIncrease              int64\n",
       "totalTestResultsIncrease      int64\n",
       "hash                         object\n",
       "dtype: object"
      ]
     },
     "execution_count": 72,
     "metadata": {},
     "output_type": "execute_result"
    }
   ],
   "source": [
    "# columns and data types\n",
    "df_US.dtypes"
   ]
  },
  {
   "cell_type": "code",
   "execution_count": 74,
   "metadata": {},
   "outputs": [
    {
     "data": {
      "text/plain": [
       "date                             int64\n",
       "state                           object\n",
       "positive                         int64\n",
       "negative                         int64\n",
       "pending                        float64\n",
       "hospitalizedCurrently          float64\n",
       "hospitalizedCumulative         float64\n",
       "inIcuCurrently                 float64\n",
       "inIcuCumulative                float64\n",
       "onVentilatorCurrently          float64\n",
       "onVentilatorCumulative         float64\n",
       "recovered                      float64\n",
       "dataQualityGrade                object\n",
       "lastUpdateEt                    object\n",
       "dateModified                    object\n",
       "checkTimeEt                     object\n",
       "death                          float64\n",
       "hospitalized                   float64\n",
       "dateChecked                     object\n",
       "totalTestsViral                  int64\n",
       "positiveTestsViral             float64\n",
       "negativeTestsViral             float64\n",
       "positiveCasesViral             float64\n",
       "deathConfirmed                 float64\n",
       "deathProbable                  float64\n",
       "totalTestEncountersViral       float64\n",
       "totalTestsPeopleViral          float64\n",
       "totalTestsAntibody             float64\n",
       "positiveTestsAntibody          float64\n",
       "negativeTestsAntibody          float64\n",
       "totalTestsPeopleAntibody       float64\n",
       "positiveTestsPeopleAntibody    float64\n",
       "negativeTestsPeopleAntibody    float64\n",
       "totalTestsPeopleAntigen        float64\n",
       "positiveTestsPeopleAntigen     float64\n",
       "totalTestsAntigen              float64\n",
       "positiveTestsAntigen           float64\n",
       "fips                             int64\n",
       "positiveIncrease                 int64\n",
       "negativeIncrease                 int64\n",
       "total                            int64\n",
       "totalTestResults                 int64\n",
       "totalTestResultsIncrease         int64\n",
       "posNeg                           int64\n",
       "deathIncrease                    int64\n",
       "hospitalizedIncrease             int64\n",
       "hash                            object\n",
       "commercialScore                  int64\n",
       "negativeRegularScore             int64\n",
       "negativeScore                    int64\n",
       "positiveScore                    int64\n",
       "score                            int64\n",
       "grade                          float64\n",
       "dtype: object"
      ]
     },
     "execution_count": 74,
     "metadata": {},
     "output_type": "execute_result"
    }
   ],
   "source": [
    "# columns and data types\n",
    "df_CA.dtypes"
   ]
  },
  {
   "cell_type": "markdown",
   "metadata": {},
   "source": [
    "# Step 2: Preprocessing the Data"
   ]
  },
  {
   "cell_type": "markdown",
   "metadata": {},
   "source": [
    "## Step 2.1: Assess Missing Data"
   ]
  },
  {
   "cell_type": "markdown",
   "metadata": {},
   "source": [
    "Sources of missing data could come from user forgetting to fill in a field, data was lost in transit, programming error, or user chose not to fill in the file."
   ]
  },
  {
   "cell_type": "code",
   "execution_count": null,
   "metadata": {},
   "outputs": [],
   "source": [
    "print df_US['']"
   ]
  },
  {
   "cell_type": "code",
   "execution_count": 88,
   "metadata": {},
   "outputs": [
    {
     "name": "stdout",
     "output_type": "stream",
     "text": [
      "US:\n"
     ]
    },
    {
     "data": {
      "text/plain": [
       "date                         0\n",
       "states                       0\n",
       "positive                     0\n",
       "negative                     0\n",
       "pending                     42\n",
       "hospitalizedCurrently       55\n",
       "hospitalizedCumulative      42\n",
       "inIcuCurrently              64\n",
       "inIcuCumulative             63\n",
       "onVentilatorCurrently       63\n",
       "onVentilatorCumulative      70\n",
       "recovered                   63\n",
       "dateChecked                  0\n",
       "death                       19\n",
       "hospitalized                42\n",
       "lastModified                 0\n",
       "total                        0\n",
       "totalTestResults             0\n",
       "posNeg                       0\n",
       "deathIncrease                0\n",
       "hospitalizedIncrease         0\n",
       "negativeIncrease             0\n",
       "positiveIncrease             0\n",
       "totalTestResultsIncrease     0\n",
       "hash                         0\n",
       "dtype: int64"
      ]
     },
     "execution_count": 88,
     "metadata": {},
     "output_type": "execute_result"
    }
   ],
   "source": [
    "# assessing how much data is missing in each column for \n",
    "# the nation and state data\n",
    "\n",
    "pd.options.display.max_rows = None\n",
    "print('US:')\n",
    "df_US.shape[0] - df_US.count()"
   ]
  },
  {
   "cell_type": "code",
   "execution_count": 89,
   "metadata": {},
   "outputs": [
    {
     "name": "stdout",
     "output_type": "stream",
     "text": [
      "CA: \n"
     ]
    },
    {
     "data": {
      "text/plain": [
       "date                             0\n",
       "state                            0\n",
       "positive                         0\n",
       "negative                         0\n",
       "pending                        143\n",
       "hospitalizedCurrently           23\n",
       "hospitalizedCumulative         171\n",
       "inIcuCurrently                  23\n",
       "inIcuCumulative                171\n",
       "onVentilatorCurrently          171\n",
       "onVentilatorCumulative         171\n",
       "recovered                      171\n",
       "dataQualityGrade                19\n",
       "lastUpdateEt                     8\n",
       "dateModified                     8\n",
       "checkTimeEt                      8\n",
       "death                            8\n",
       "hospitalized                   171\n",
       "dateChecked                      8\n",
       "totalTestsViral                  0\n",
       "positiveTestsViral             171\n",
       "negativeTestsViral             171\n",
       "positiveCasesViral              56\n",
       "deathConfirmed                 171\n",
       "deathProbable                  171\n",
       "totalTestEncountersViral       171\n",
       "totalTestsPeopleViral          171\n",
       "totalTestsAntibody             171\n",
       "positiveTestsAntibody          171\n",
       "negativeTestsAntibody          171\n",
       "totalTestsPeopleAntibody       171\n",
       "positiveTestsPeopleAntibody    171\n",
       "negativeTestsPeopleAntibody    171\n",
       "totalTestsPeopleAntigen        171\n",
       "positiveTestsPeopleAntigen     171\n",
       "totalTestsAntigen              171\n",
       "positiveTestsAntigen           171\n",
       "fips                             0\n",
       "positiveIncrease                 0\n",
       "negativeIncrease                 0\n",
       "total                            0\n",
       "totalTestResults                 0\n",
       "totalTestResultsIncrease         0\n",
       "posNeg                           0\n",
       "deathIncrease                    0\n",
       "hospitalizedIncrease             0\n",
       "hash                             0\n",
       "commercialScore                  0\n",
       "negativeRegularScore             0\n",
       "negativeScore                    0\n",
       "positiveScore                    0\n",
       "score                            0\n",
       "grade                          171\n",
       "dtype: int64"
      ]
     },
     "execution_count": 89,
     "metadata": {},
     "output_type": "execute_result"
    }
   ],
   "source": [
    "print('CA: ')\n",
    "df_CA.shape[0] - df_CA.count()"
   ]
  },
  {
   "cell_type": "code",
   "execution_count": 105,
   "metadata": {},
   "outputs": [
    {
     "name": "stdout",
     "output_type": "stream",
     "text": [
      "Nation\n"
     ]
    },
    {
     "data": {
      "image/png": "[encoded data removed]",
      "text/plain": [
       "<Figure size 432x288 with 1 Axes>"
      ]
     },
     "metadata": {
      "needs_background": "light"
     },
     "output_type": "display_data"
    }
   ],
   "source": [
    "# Patterns of missing data:\n",
    "print('Nation')\n",
    "na_count_US=pd.DataFrame(df_US.shape[0] - df_US.count())\n",
    "na_count_US.columns=['na_count_US'];\n",
    "plt.hist(na_count_US['na_count_US']);"
   ]
  },
  {
   "cell_type": "code",
   "execution_count": 106,
   "metadata": {},
   "outputs": [
    {
     "name": "stdout",
     "output_type": "stream",
     "text": [
      "California\n"
     ]
    },
    {
     "data": {
      "image/png": "[encoded data removed]",
      "text/plain": [
       "<Figure size 432x288 with 1 Axes>"
      ]
     },
     "metadata": {
      "needs_background": "light"
     },
     "output_type": "display_data"
    }
   ],
   "source": [
    "print('California')\n",
    "na_count_CA=pd.DataFrame(df_CA.shape[0] - df_CA.count())\n",
    "na_count_CA.columns=['na_count_CA'];\n",
    "plt.hist(na_count_CA['na_count_CA']);"
   ]
  },
  {
   "cell_type": "markdown",
   "metadata": {},
   "source": [
    "It appears for the nation-wide dataset, the outlier column is "
   ]
  },
  {
   "cell_type": "code",
   "execution_count": 109,
   "metadata": {},
   "outputs": [
    {
     "name": "stdout",
     "output_type": "stream",
     "text": [
      "213\n"
     ]
    }
   ],
   "source": [
    "print(df_US.shape[0])"
   ]
  },
  {
   "cell_type": "code",
   "execution_count": 108,
   "metadata": {},
   "outputs": [
    {
     "name": "stdout",
     "output_type": "stream",
     "text": [
      "date                        213\n",
      "states                      213\n",
      "positive                    213\n",
      "negative                    213\n",
      "pending                     171\n",
      "hospitalizedCurrently       158\n",
      "hospitalizedCumulative      171\n",
      "inIcuCurrently              149\n",
      "inIcuCumulative             150\n",
      "onVentilatorCurrently       150\n",
      "onVentilatorCumulative      143\n",
      "recovered                   150\n",
      "dateChecked                 213\n",
      "death                       194\n",
      "hospitalized                171\n",
      "lastModified                213\n",
      "total                       213\n",
      "totalTestResults            213\n",
      "posNeg                      213\n",
      "deathIncrease               213\n",
      "hospitalizedIncrease        213\n",
      "negativeIncrease            213\n",
      "positiveIncrease            213\n",
      "totalTestResultsIncrease    213\n",
      "hash                        213\n",
      "dtype: int64\n"
     ]
    }
   ],
   "source": [
    "print(df_US.count())"
   ]
  },
  {
   "cell_type": "code",
   "execution_count": null,
   "metadata": {},
   "outputs": [],
   "source": []
  }
 ],
 "metadata": {
  "kernelspec": {
   "display_name": "Python 3",
   "language": "python",
   "name": "python3"
  },
  "language_info": {
   "codemirror_mode": {
    "name": "ipython",
    "version": 3
   },
   "file_extension": ".py",
   "mimetype": "text/x-python",
   "name": "python",
   "nbconvert_exporter": "python",
   "pygments_lexer": "ipython3",
   "version": "3.8.5"
  }
 },
 "nbformat": 4,
 "nbformat_minor": 4
}
