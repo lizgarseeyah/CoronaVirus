{
 "cells": [
  {
   "cell_type": "markdown",
   "metadata": {},
   "source": [
    "### Open Questions:\n",
    "1. What are we trying to solve? Make predictions in local communities.\n",
    "2. What data set are you using (preferrably raw data)? Source? Compares?\n",
    "3. What is being tracked?\n",
    "4. Data for contact testing?"
   ]
  },
  {
   "cell_type": "code",
   "execution_count": 1,
   "metadata": {},
   "outputs": [],
   "source": [
    "# Step 1: research how the data was collected, discuss the dataset\n",
    "# Step 2: import and visualize\n",
    "# Step 3: Clean\n",
    "# Step 4: Visualize\n",
    "# Step 5: Apply Data Science methodolgies\n",
    "\n",
    "# Resources:\n",
    "# Pulling Data from the internet: https://towardsdatascience.com/how-to-pull-data-from-an-api-using-python-requests-edcc8d6441b1\n",
    "# https://docs.microsoft.com/en-us/azure/active-directory/develop/reply-url"
   ]
  },
  {
   "cell_type": "markdown",
   "metadata": {},
   "source": [
    "# Part 0 - Method 1: Getting the data from the internet using an API"
   ]
  },
  {
   "cell_type": "code",
   "execution_count": 2,
   "metadata": {},
   "outputs": [],
   "source": [
    "# First step is to download an API interface app (Postman: https://www.postman.com/downloads/)\n",
    "# Second Step is to review Microsoft Graph API documentation: https://docs.microsoft.com/en-us/graph/overview?view=graph-rest-1.0\n",
    "# Third Step is to register App: https://docs.microsoft.com/en-us/graph/auth-register-app-v2?source=docs\n",
    "# Add permissions: Files.ReadWrite.Selected"
   ]
  },
  {
   "cell_type": "code",
   "execution_count": 3,
   "metadata": {},
   "outputs": [],
   "source": [
    "# def get_access_code():\n",
    "#     client_id = '2f2ed715-e971-4a01-9f44-2b074d260b4e'\n",
    "#     redirect_uri = 'https://api.covidtracking.com/v1/us/daily.csv'\n",
    "#     scope = 'files.readwrite.all offline_access mail.readwrite'\n",
    "#     url = \"\"\"https://login.microsoftonline.com/common/oauth2/v2.0/authorize?client_id={}&scope={}\n",
    "#       &response_type=code&redirect_uri={}\"\"\".format(client_id, scope, redirect_uri)\n",
    "#     return url\n",
    "    \n",
    "# print(get_access_code())"
   ]
  },
  {
   "cell_type": "code",
   "execution_count": 4,
   "metadata": {},
   "outputs": [],
   "source": [
    "# pip install --upgrade requests"
   ]
  },
  {
   "cell_type": "code",
   "execution_count": 5,
   "metadata": {},
   "outputs": [],
   "source": [
    "# # https://api.covidtracking.com/v1/us/daily.csv?error=invalid_request&error_description=The%20provided%20request%20must%20include%20a%20%27response_type%27%20input%20parameter.\n",
    "# import requests\n",
    "# url = \"https://login.microsoftonline.com/common/oauth2/v2.0/token\"\n",
    "# payload = \"client_id%0A=74dc4c57-e2f9-43f1-a2e9-6094e32d475c&redirect_uri=https://api.covidtracking.com/v1/us/daily.csv?error=invalid_request&error_description=The%20provided%20request%20must%20include%20a%20%27response_type%27%20input%20parameter.%2F&client_secret=L5C.RsoxobV5O6BZ9V9lH~NC-15T4.~0Ne&code={}&grant_type=authorization_code&undefined=\".format(code)\n",
    "# headers = {\n",
    "#     'Content-Type': \"application/x-www-form-urlencoded\",\n",
    "#     'cache-control': \"no-cache\"\n",
    "#     }\n",
    "# response = requests.request(\"POST\", url, data=payload, headers=headers)\n",
    "# print(response.text)"
   ]
  },
  {
   "cell_type": "markdown",
   "metadata": {},
   "source": [
    "# Part 0 - Method 2: Importing from Local Drive using the HTTP Library"
   ]
  },
  {
   "cell_type": "code",
   "execution_count": 7,
   "metadata": {},
   "outputs": [
    {
     "name": "stdout",
     "output_type": "stream",
     "text": [
      "Collecting pandas\n",
      "  Downloading pandas-1.1.1-cp38-cp38-macosx_10_9_x86_64.whl (10.6 MB)\n",
      "\u001b[K     |████████████████████████████████| 10.6 MB 7.3 MB/s eta 0:00:01\n",
      "\u001b[?25hRequirement already satisfied: python-dateutil>=2.7.3 in /usr/local/Cellar/jupyterlab/2.2.5/libexec/lib/python3.8/site-packages (from pandas) (2.8.1)\n",
      "Collecting pytz>=2017.2\n",
      "  Downloading pytz-2020.1-py2.py3-none-any.whl (510 kB)\n",
      "\u001b[K     |████████████████████████████████| 510 kB 18.4 MB/s eta 0:00:01\n",
      "\u001b[?25hCollecting numpy>=1.15.4\n",
      "  Downloading numpy-1.19.1-cp38-cp38-macosx_10_9_x86_64.whl (15.3 MB)\n",
      "\u001b[K     |████████████████████████████████| 15.3 MB 2.0 MB/s eta 0:00:01\n",
      "\u001b[?25hRequirement already satisfied: six>=1.5 in /usr/local/Cellar/jupyterlab/2.2.5/libexec/lib/python3.8/site-packages (from python-dateutil>=2.7.3->pandas) (1.15.0)\n",
      "Installing collected packages: pytz, numpy, pandas\n",
      "Successfully installed numpy-1.19.1 pandas-1.1.1 pytz-2020.1\n",
      "Note: you may need to restart the kernel to use updated packages.\n"
     ]
    }
   ],
   "source": [
    "# pip install pandas"
   ]
  },
  {
   "cell_type": "markdown",
   "metadata": {},
   "source": [
    "### Import data from the web to a local drive."
   ]
  },
  {
   "cell_type": "code",
   "execution_count": 27,
   "metadata": {},
   "outputs": [],
   "source": [
    "import csv\n",
    "import requests"
   ]
  },
  {
   "cell_type": "code",
   "execution_count": 28,
   "metadata": {},
   "outputs": [],
   "source": [
    "# import data from local source. Data downloaded from: https://covidtracking.com/data/download\n",
    "# saves data from source to local drive (or overwrite existing data)\n",
    "url = 'https://api.covidtracking.com/v1/us/daily.csv'\n",
    "response = requests.get(url)\n",
    "with open(os.path.join(\"/Users/lizgarcia/Desktop/ROADMAP/PYTHON/Covid-19-Anaylsis/Data\", \"covid-19-data.csv\"), 'wb') as f:\n",
    "    f.write(response.content)"
   ]
  },
  {
   "cell_type": "code",
   "execution_count": null,
   "metadata": {},
   "outputs": [],
   "source": [
    " "
   ]
  },
  {
   "cell_type": "code",
   "execution_count": null,
   "metadata": {},
   "outputs": [],
   "source": []
  }
 ],
 "metadata": {
  "kernelspec": {
   "display_name": "Python 3",
   "language": "python",
   "name": "python3"
  },
  "language_info": {
   "codemirror_mode": {
    "name": "ipython",
    "version": 3
   },
   "file_extension": ".py",
   "mimetype": "text/x-python",
   "name": "python",
   "nbconvert_exporter": "python",
   "pygments_lexer": "ipython3",
   "version": "3.8.5"
  }
 },
 "nbformat": 4,
 "nbformat_minor": 4
}
